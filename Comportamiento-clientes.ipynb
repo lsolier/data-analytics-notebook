{
 "cells": [
  {
   "cell_type": "markdown",
   "id": "2fb0b714-213a-4d77-ad2b-1e949729aabc",
   "metadata": {},
   "source": [
    "# Entendimiento de los datos con PySpark - Luis Solier Sajami"
   ]
  },
  {
   "cell_type": "markdown",
   "id": "b9eb6b00-f32c-4907-8f46-084f3216dd5e",
   "metadata": {},
   "source": [
    "## 1- Configuracion general\n"
   ]
  },
  {
   "cell_type": "markdown",
   "id": "f401b370-807e-4cb9-8582-db66a89b5f4b",
   "metadata": {},
   "source": [
    "### 1.1- Configuración e importe de paquetes\n",
    "Se utilizará el paquete de pandas profiling para apoyar el análisis estadístico, y se importan los paquetes de python necesarios"
   ]
  },
  {
   "cell_type": "code",
   "execution_count": 44,
   "id": "61338840-638b-4413-bc96-9443341bb39c",
   "metadata": {},
   "outputs": [],
   "source": [
    "from pyspark.sql import SparkSession\n",
    "from pyspark.sql import functions\n",
    "from pyspark.sql.types import StructType\n",
    "from pyspark import SparkContext, SparkConf, SQLContext\n",
    "from pyspark.sql.types import FloatType, StringType, IntegerType, DateType\n",
    "from pyspark.sql.functions import udf, col, length, isnan, when, count\n",
    "import pyspark.sql.functions as f\n",
    "import os \n",
    "from datetime import datetime\n",
    "from pyspark.sql import types as t\n",
    "#from pandas_profiling import ProfileReport\n",
    "from ydata_profiling import ProfileReport\n",
    "#import matplotlib.pyplot as plt\n",
    "import numpy as np\n",
    "from pyspark.sql.functions import to_timestamp\n",
    "from pyspark.sql.functions import to_date\n",
    "from pyspark.sql.functions import date_format"
   ]
  },
  {
   "cell_type": "markdown",
   "id": "6345e908-57e5-401b-8b45-23dc947c5dd7",
   "metadata": {},
   "source": [
    "Configuración del controlador e inicio de sesion Spark"
   ]
  },
  {
   "cell_type": "code",
   "execution_count": 2,
   "id": "8f1f6e65-c83a-46d6-b63a-f8ed69fc86e0",
   "metadata": {},
   "outputs": [],
   "source": [
    "path_jar_driver = '/home/luissolier/Documents/miso/ciclo-7/analisis-y-modelado-de-datos/tutoriales/entendimiento-datos/mysql-connector-java-8.0.28.jar'"
   ]
  },
  {
   "cell_type": "code",
   "execution_count": 3,
   "id": "7b675a31-bfd9-48f5-918b-8f5fc505210c",
   "metadata": {},
   "outputs": [
    {
     "name": "stderr",
     "output_type": "stream",
     "text": [
      "23/08/23 19:05:44 WARN Utils: Your hostname, pop-os resolves to a loopback address: 127.0.1.1; using 192.168.1.41 instead (on interface enp46s0)\n",
      "23/08/23 19:05:44 WARN Utils: Set SPARK_LOCAL_IP if you need to bind to another address\n",
      "WARNING: An illegal reflective access operation has occurred\n",
      "WARNING: Illegal reflective access by org.apache.spark.unsafe.Platform (file:/home/luissolier/Documents/miso/ciclo-7/analisis-y-modelado-de-datos/tutoriales/entendimiento-datos/tutorial-env/lib/python3.10/site-packages/pyspark/jars/spark-unsafe_2.12-3.2.1.jar) to constructor java.nio.DirectByteBuffer(long,int)\n",
      "WARNING: Please consider reporting this to the maintainers of org.apache.spark.unsafe.Platform\n",
      "WARNING: Use --illegal-access=warn to enable warnings of further illegal reflective access operations\n",
      "WARNING: All illegal access operations will be denied in a future release\n",
      "Using Spark's default log4j profile: org/apache/spark/log4j-defaults.properties\n",
      "Setting default log level to \"WARN\".\n",
      "To adjust logging level use sc.setLogLevel(newLevel). For SparkR, use setLogLevel(newLevel).\n",
      "23/08/23 19:05:45 WARN NativeCodeLoader: Unable to load native-hadoop library for your platform... using builtin-java classes where applicable\n",
      "23/08/23 19:05:45 WARN Utils: Service 'SparkUI' could not bind on port 4040. Attempting port 4041.\n",
      "23/08/23 19:05:45 WARN Utils: Service 'SparkUI' could not bind on port 4041. Attempting port 4042.\n",
      "/home/luissolier/Documents/miso/ciclo-7/analisis-y-modelado-de-datos/tutoriales/entendimiento-datos/tutorial-env/lib/python3.10/site-packages/pyspark/sql/context.py:77: FutureWarning: Deprecated in 3.0.0. Use SparkSession.builder.getOrCreate() instead.\n",
      "  warnings.warn(\n"
     ]
    }
   ],
   "source": [
    "#Configuración de la sesión\n",
    "conf=SparkConf() \\\n",
    "    .set('spark.driver.extraClassPath', path_jar_driver)\n",
    "\n",
    "spark_context = SparkContext(conf=conf)\n",
    "sql_context = SQLContext(spark_context)\n",
    "spark = sql_context.sparkSession"
   ]
  },
  {
   "cell_type": "code",
   "execution_count": 4,
   "id": "06686a34-fc46-4f18-ab58-6bede9d2befe",
   "metadata": {},
   "outputs": [],
   "source": [
    "# Si quiere practicar la conexion con el servidor de base de datos:\n",
    "db_connection_string = 'jdbc:mysql://localhost:3306/WWImportersTransactional'\n",
    "# El usuario es su estudiante _i asignado y su contraseña la encontrará en el archivo excel de Coursera \n",
    "db_user = ''\n",
    "db_psswd = ''\n",
    "\n",
    "PATH='./'"
   ]
  },
  {
   "cell_type": "markdown",
   "id": "f26242e4-a21f-46ba-9142-7846bf9fe594",
   "metadata": {},
   "source": [
    "### 1.2- Conexión a fuente de datos y acceso a los datos"
   ]
  },
  {
   "cell_type": "code",
   "execution_count": 5,
   "id": "0adc2acd-003a-4d71-9553-176c53c217d4",
   "metadata": {},
   "outputs": [],
   "source": [
    "def obtener_dataframe_de_bd(db_connection_string, sql, db_user, db_psswd):\n",
    "    df_bd = spark.read.format('jdbc')\\\n",
    "        .option('url', db_connection_string) \\\n",
    "        .option('dbtable', sql) \\\n",
    "        .option('user', db_user) \\\n",
    "        .option('password', db_psswd) \\\n",
    "        .option('driver', 'com.mysql.cj.jdbc.Driver') \\\n",
    "        .load()\n",
    "    return df_bd"
   ]
  },
  {
   "cell_type": "markdown",
   "id": "083d4a52-eccc-47ac-a235-c723cd8d8b60",
   "metadata": {},
   "source": [
    "### 1.3- Cargue de datos"
   ]
  },
  {
   "cell_type": "code",
   "execution_count": 13,
   "id": "1b91733b-f624-4ef1-96cb-27c7daa03e04",
   "metadata": {},
   "outputs": [],
   "source": [
    "sql_movimientos = 'WWImportersTransactional.movimientosCopia'\n",
    "sql_tipos_transaccion = 'WWImportersTransactional.TiposTransaccion'"
   ]
  },
  {
   "cell_type": "code",
   "execution_count": 14,
   "id": "d47e2d90-49d6-44c6-8322-e2bfbf34b233",
   "metadata": {},
   "outputs": [],
   "source": [
    "#Se cargan los dataframes desde la base de datos\n",
    "movimientos = obtener_dataframe_de_bd(db_connection_string, sql_movimientos, db_user, db_psswd)\n",
    "tipos_transaccion = obtener_dataframe_de_bd(db_connection_string, sql_tipos_transaccion, db_user, db_psswd)"
   ]
  },
  {
   "cell_type": "markdown",
   "id": "b0dd1e1b-9d2a-4b30-94cd-651e80729136",
   "metadata": {},
   "source": [
    "## 2- Información dada por la organización relacionada con los datos\n",
    "\n",
    "En esta actividad le recomendamos revisar el diccionario de datos suministrado y en particular la información relacionada con la tabla movimientosCopia. Si tienen alguna duda relacionada con esta tabla deben incluirla en las preguntas o aclaraciones que le entreguen al negocio. En relación a los datos Wide World Importers menciona:\n",
    "\n",
    "- La cantidad máxima de productos movidos es 50 millones por transacción\n",
    "- Existen 236.668 movimientos de producto realizados desde 2013\n",
    "- Los movimientos están relacionados con 228.265 clientes\n",
    "- El formato de fechas manejado es YYYY-MM-DD HH:MM:SS\n",
    "- Actualmente tenemos 13 proveedores"
   ]
  },
  {
   "cell_type": "markdown",
   "id": "058e9a3e-849b-4a25-ad8e-c3199519ae31",
   "metadata": {},
   "source": [
    "## 3- Perfilamiento de los datos\n",
    "El perfilamiento se basa en varios aspectos: **entendimiento general** de los datos compartidos, validación de **reglas de negocio**, **análisis descriptivo** utilizando estadística descriptiva y diagramas para la visualización de los datos y **análisis de calidad**. El primero hace referencia a tener una comprensiòn global antes de entrar en los detalles, la segunda sobre las reglas, corresponden a especificaciones dadas por el negocio en relación con los datos, un ejemplo de regla de negocio dada es: \"Todo producto de la canasta familiar debe tener un precio de IVA equivalente a 19%\", dada esta regla de negocio, se debe revisar en los datos suministrados que no hayan valores de IVA menores a 19%. En el tercer aspecto, relacionado con el análisis descriptivo, se revisan estadísticas: mínimo, máximo, media, mediana, distribuciones de los datos, valores nulos, cardinalidad con el fin de comprender en mayor nivel de profundidad los datos compartidos."
   ]
  },
  {
   "cell_type": "markdown",
   "id": "3a116c88-2ec9-49b0-b23d-e5ef9506ecd7",
   "metadata": {},
   "source": [
    "### 3.1- Entendimiento general de datos"
   ]
  },
  {
   "cell_type": "code",
   "execution_count": 19,
   "id": "009c5b6a-9ed6-473f-9a91-df74e7010e91",
   "metadata": {},
   "outputs": [
    {
     "name": "stdout",
     "output_type": "stream",
     "text": [
      "+---------------------+----------+-----------------+---------+---------+-----------+---------------+----------------+--------+\n",
      "|TransaccionProductoID|ProductoID|TipoTransaccionID|ClienteID|InvoiceID|ProveedorID|OrdenDeCompraID|FechaTransaccion|Cantidad|\n",
      "+---------------------+----------+-----------------+---------+---------+-----------+---------------+----------------+--------+\n",
      "|               118903|       217|               10|    476.0|  24904.0|           |               |     Apr 25,2014|   -40.0|\n",
      "|               286890|       135|               10|     33.0|  60117.0|           |               |     Dec 10,2015|    -7.0|\n",
      "|               285233|       111|               10|    180.0|  59768.0|           |               |     Dec 04,2015|    -2.0|\n",
      "|               290145|       213|               10|     33.0|  60795.0|           |               |     Dec 23,2015|    -3.0|\n",
      "|               247492|        90|               10|     55.0|  51851.0|           |               |     Jul 27,2015|   -24.0|\n",
      "|               157714|       212|               10|    146.0|  33043.0|           |               |     Sep 15,2014|   -20.0|\n",
      "|               250024|       218|               10|    585.0|  52377.0|           |               |     Aug 04,2015|   -60.0|\n",
      "|               200801|       120|               10|     30.0|  42049.0|           |               |     Feb 23,2015|    -3.0|\n",
      "|               221525|       129|               10|    596.0|  46388.0|           |               |     May 01,2015|    -7.0|\n",
      "|               295331|       197|               10|   1037.0|  61886.0|           |               |     Jan 08,2016|  -216.0|\n",
      "+---------------------+----------+-----------------+---------+---------+-----------+---------------+----------------+--------+\n",
      "only showing top 10 rows\n",
      "\n"
     ]
    }
   ],
   "source": [
    "movimientos.show(10)"
   ]
  },
  {
   "cell_type": "code",
   "execution_count": 17,
   "id": "ec14ec54-b298-4b95-a3ee-9700f35ae7ac",
   "metadata": {},
   "outputs": [
    {
     "name": "stdout",
     "output_type": "stream",
     "text": [
      "+-----------------+---------------------+\n",
      "|TipoTransaccionID|TipoTransaccionNombre|\n",
      "+-----------------+---------------------+\n",
      "|                2| Customer Credit Note|\n",
      "|                3| Customer Payment ...|\n",
      "|                4|      Customer Refund|\n",
      "|                5|     Supplier Invoice|\n",
      "|                6| Supplier Credit Note|\n",
      "|                7| Supplier Payment ...|\n",
      "|                8|      Supplier Refund|\n",
      "|                9|       Stock Transfer|\n",
      "|               10|          Stock Issue|\n",
      "|               11|        Stock Receipt|\n",
      "|               12| Stock Adjustment ...|\n",
      "|               13|      Customer Contra|\n",
      "+-----------------+---------------------+\n",
      "\n"
     ]
    }
   ],
   "source": [
    "tipos_transaccion.show(15)"
   ]
  },
  {
   "cell_type": "markdown",
   "id": "d9563d2b-1f1e-4156-b1e9-e0c2b68ab852",
   "metadata": {},
   "source": [
    "Como puede observar en la tabla de movimientos tenemos **información realcionada con el cliente, proveedor y producto**. La información del cliente es su identificador ?_ClienteID_, el identificador del proveedor del producto _ProductoID_, el identificador del producto que fue extraido o agregado al inventario _ProductoID_, el identificador del tipo de transaccion vinculado al movimiento _TipoTransaccionID_ (Ej. 2.Customer Credit Note, 3. Customer Payment Received), el identificador de la orden de compra vinculado al movimiento _OrdenDeCompraID_, el identificador de la factura _InvoiceID_, la fecha de transaccion _FechaTransaccion_ y la cantidad del producto dentro del moviemiento _Cantidad_."
   ]
  },
  {
   "cell_type": "code",
   "execution_count": 20,
   "id": "16ee7d61-774b-4795-bca3-bc7daf4f4989",
   "metadata": {},
   "outputs": [
    {
     "data": {
      "text/plain": [
       "StructType(List(StructField(TransaccionProductoID,IntegerType,true),StructField(ProductoID,IntegerType,true),StructField(TipoTransaccionID,IntegerType,true),StructField(ClienteID,DoubleType,true),StructField(InvoiceID,DoubleType,true),StructField(ProveedorID,StringType,true),StructField(OrdenDeCompraID,StringType,true),StructField(FechaTransaccion,StringType,true),StructField(Cantidad,DoubleType,true)))"
      ]
     },
     "execution_count": 20,
     "metadata": {},
     "output_type": "execute_result"
    }
   ],
   "source": [
    "movimientos.schema"
   ]
  },
  {
   "cell_type": "code",
   "execution_count": 22,
   "id": "18a3b33b-3048-406e-a5ec-767603ce90b8",
   "metadata": {},
   "outputs": [
    {
     "data": {
      "text/plain": [
       "StructType(List(StructField(TipoTransaccionID,IntegerType,true),StructField(TipoTransaccionNombre,StringType,true)))"
      ]
     },
     "execution_count": 22,
     "metadata": {},
     "output_type": "execute_result"
    }
   ],
   "source": [
    "tipos_transaccion.schema"
   ]
  },
  {
   "cell_type": "markdown",
   "id": "59cd31be-b82f-48ee-9ff7-daff595e8bb0",
   "metadata": {},
   "source": [
    "Una vez entendida en términos generales la estructura de los datos, es necesario conocer la cantidad de datos disponibles, esto se hace con count() y con columns, que retornan el número de filas y número de columnas respectivamente."
   ]
  },
  {
   "cell_type": "code",
   "execution_count": 21,
   "id": "d7fcf1b3-8e35-408e-90b9-2848a18106ff",
   "metadata": {},
   "outputs": [
    {
     "name": "stdout",
     "output_type": "stream",
     "text": [
      "(204292, 9) (12, 2)\n"
     ]
    }
   ],
   "source": [
    "print((movimientos.count(), len(movimientos.columns)),(tipos_transaccion.count(), len(tipos_transaccion.columns)))"
   ]
  },
  {
   "cell_type": "markdown",
   "id": "9db1e765-b4bd-446c-bb6a-9193ab20b723",
   "metadata": {},
   "source": [
    "**¿Cuantos datos nos compartieron para el proyecto?**\n",
    "En total tenemos 204.292 movimientos y 12 tipo de movimientos y tenemos en total 11 variables a revisar de las cuales 7 son nùmericas asociadas a los movimientos y tipos de movimeinto, 4 son cadenas de caracteres."
   ]
  },
  {
   "cell_type": "markdown",
   "id": "97c7b753-7b9b-4000-b283-648aa4f4f66e",
   "metadata": {},
   "source": [
    "### 3.2- Revisión de reglas de negocio \n",
    "\n",
    "Primero se confirman las reglas proporcionadas por el negocio, la primera asegura:"
   ]
  },
  {
   "cell_type": "markdown",
   "id": "1b9700a3-3b80-4cd5-b3e1-37bb0376134c",
   "metadata": {},
   "source": [
    "#### 3.2.1- La cantidad maxima de productos movidos es 50 millones por transaccion\n",
    "\n",
    "Vemos que no es posible corroborar esta informacion dado que no existe un tabla que nos informe del monto por cada factura, adicional a ello la columna InvoiceID tiene valores duplicados."
   ]
  },
  {
   "cell_type": "code",
   "execution_count": 25,
   "id": "3e1fb07c-92e4-49ba-b229-78c8ca70e02f",
   "metadata": {},
   "outputs": [
    {
     "name": "stdout",
     "output_type": "stream",
     "text": [
      "+---------+\n",
      "|InvoiceID|\n",
      "+---------+\n",
      "|  30102.0|\n",
      "|  39221.0|\n",
      "|  28134.0|\n",
      "|  50815.0|\n",
      "|  51013.0|\n",
      "|  26597.0|\n",
      "|  68581.0|\n",
      "|  42071.0|\n",
      "|  33322.0|\n",
      "|  67357.0|\n",
      "+---------+\n",
      "only showing top 10 rows\n",
      "\n"
     ]
    }
   ],
   "source": [
    "movimientos.select(\"InvoiceID\").distinct().show(10)"
   ]
  },
  {
   "cell_type": "code",
   "execution_count": 26,
   "id": "c0928d84-b281-4f48-95c7-07cd0cd144e5",
   "metadata": {},
   "outputs": [
    {
     "name": "stdout",
     "output_type": "stream",
     "text": [
      "51831\n"
     ]
    }
   ],
   "source": [
    "print(movimientos.select(\"InvoiceID\").distinct().count())"
   ]
  },
  {
   "cell_type": "markdown",
   "id": "92f1482c-502e-48c9-8990-179e006f4044",
   "metadata": {},
   "source": [
    "Asumiendo que la columna **_InvoiceID_** representa el monto total del movimiento, la regla tampoco seria cierta, ya que si obtenemos el valor maximo obtenido es 70510."
   ]
  },
  {
   "cell_type": "code",
   "execution_count": 27,
   "id": "a391af00-0103-4b2f-9f0c-814d4b6e9a36",
   "metadata": {},
   "outputs": [
    {
     "name": "stdout",
     "output_type": "stream",
     "text": [
      "+--------------+\n",
      "|max(InvoiceID)|\n",
      "+--------------+\n",
      "|       70510.0|\n",
      "+--------------+\n",
      "\n"
     ]
    }
   ],
   "source": [
    "movimientos.agg({'InvoiceID': 'max'}).show()"
   ]
  },
  {
   "cell_type": "markdown",
   "id": "a1b42bc8-4478-4300-8686-af88da2dd7a5",
   "metadata": {},
   "source": [
    "La conclusion es entonces es que no se puede determinar si la regla es cierta o no, dado que no hay existe una tabla **Invoice** que nos brinde el monto asociado a cada movimiento."
   ]
  },
  {
   "cell_type": "markdown",
   "id": "4f1d95f1-8811-441e-a3de-8f33ed5141d0",
   "metadata": {},
   "source": [
    "#### 3.2.2- Existen 236.668 movimientos de producto realizados desde 2013"
   ]
  },
  {
   "cell_type": "markdown",
   "id": "0cee36d5-9aa3-4c6c-8311-47b25b84959a",
   "metadata": {},
   "source": [
    "Vemos que la segunda regla que indica que existen 236668 movimientos no es cierta, ya que al hacer un conteo encontramos 204292 registros. Si revisamos los registros no duplicados obtenemos un total ade 173659 filas."
   ]
  },
  {
   "cell_type": "code",
   "execution_count": 28,
   "id": "ebb82a24-3949-4587-9d88-fa95680b12bf",
   "metadata": {},
   "outputs": [
    {
     "data": {
      "text/plain": [
       "204292"
      ]
     },
     "execution_count": 28,
     "metadata": {},
     "output_type": "execute_result"
    }
   ],
   "source": [
    "movimientos.count()"
   ]
  },
  {
   "cell_type": "code",
   "execution_count": 35,
   "id": "356762cd-82c5-4132-b7c2-50aaa77c6ab8",
   "metadata": {},
   "outputs": [
    {
     "data": {
      "text/plain": [
       "173659"
      ]
     },
     "execution_count": 35,
     "metadata": {},
     "output_type": "execute_result"
    }
   ],
   "source": [
    "movimientos.distinct().count()"
   ]
  },
  {
   "cell_type": "markdown",
   "id": "43b49a0c-94f6-4bc4-8b93-7e3e35bd0d86",
   "metadata": {},
   "source": [
    "Se indica que los movimientos son realizados desde 2013, para poder procesar afirmar esa regla de negocio es necesario hacer una conversion de tipos de datos de cadena de texto a tipo fecha. De acuerdo a las consultas realizadas la fecha mas antigua encontrada fue **_01-01-2014_**"
   ]
  },
  {
   "cell_type": "code",
   "execution_count": 55,
   "id": "894901ec-bccb-40d3-b911-ff79b33a2938",
   "metadata": {},
   "outputs": [
    {
     "name": "stdout",
     "output_type": "stream",
     "text": [
      "+----------------+----------------+\n",
      "|FechaTransaccion|date-transaction|\n",
      "+----------------+----------------+\n",
      "|     Apr 25,2014|      25-04-2014|\n",
      "|     Dec 10,2015|      10-12-2015|\n",
      "|     Dec 04,2015|      04-12-2015|\n",
      "|     Dec 23,2015|      23-12-2015|\n",
      "|     Jul 27,2015|      27-07-2015|\n",
      "|     Sep 15,2014|      15-09-2014|\n",
      "|     Aug 04,2015|      04-08-2015|\n",
      "|     Feb 23,2015|      23-02-2015|\n",
      "|     May 01,2015|      01-05-2015|\n",
      "|     Jan 08,2016|      08-01-2016|\n",
      "+----------------+----------------+\n",
      "only showing top 10 rows\n",
      "\n"
     ]
    }
   ],
   "source": [
    "movimientos.select(col(\"FechaTransaccion\"),date_format(to_date(col(\"FechaTransaccion\"),\"MMM dd,yyyy\"),\"dd-MM-yyyy\").alias(\"date-transaction\")).show(10)"
   ]
  },
  {
   "cell_type": "code",
   "execution_count": 61,
   "id": "43bba15a-21e1-4c95-b235-28b277cb3044",
   "metadata": {},
   "outputs": [],
   "source": [
    "fechas_df = movimientos.select(col(\"FechaTransaccion\"),date_format(to_date(col(\"FechaTransaccion\"),\"MMM dd,yyyy\"),\"dd-MM-yyyy\").alias(\"FechaTransaccionFormatoDate\"))"
   ]
  },
  {
   "cell_type": "code",
   "execution_count": 62,
   "id": "69bd0bd8-a378-4dfb-86bd-06c6b4b78571",
   "metadata": {},
   "outputs": [
    {
     "name": "stdout",
     "output_type": "stream",
     "text": [
      "+----------------+---------------------------+\n",
      "|FechaTransaccion|FechaTransaccionFormatoDate|\n",
      "+----------------+---------------------------+\n",
      "|     Apr 25,2014|                 25-04-2014|\n",
      "|     Dec 10,2015|                 10-12-2015|\n",
      "|     Dec 04,2015|                 04-12-2015|\n",
      "|     Dec 23,2015|                 23-12-2015|\n",
      "|     Jul 27,2015|                 27-07-2015|\n",
      "|     Sep 15,2014|                 15-09-2014|\n",
      "|     Aug 04,2015|                 04-08-2015|\n",
      "|     Feb 23,2015|                 23-02-2015|\n",
      "|     May 01,2015|                 01-05-2015|\n",
      "|     Jan 08,2016|                 08-01-2016|\n",
      "+----------------+---------------------------+\n",
      "only showing top 10 rows\n",
      "\n"
     ]
    }
   ],
   "source": [
    "fechas_df.show(10)"
   ]
  },
  {
   "cell_type": "code",
   "execution_count": 63,
   "id": "6dc69fe5-4a68-4925-9798-89a3204a8637",
   "metadata": {},
   "outputs": [
    {
     "name": "stderr",
     "output_type": "stream",
     "text": [
      "[Stage 77:>                                                         (0 + 1) / 1]\r"
     ]
    },
    {
     "name": "stdout",
     "output_type": "stream",
     "text": [
      "+--------------------------------+\n",
      "|min(FechaTransaccionFormatoDate)|\n",
      "+--------------------------------+\n",
      "|                      01-01-2014|\n",
      "+--------------------------------+\n",
      "\n"
     ]
    },
    {
     "name": "stderr",
     "output_type": "stream",
     "text": [
      "                                                                                \r"
     ]
    }
   ],
   "source": [
    "fechas_df.agg({\"FechaTransaccionFormatoDate\": \"min\"}).show()"
   ]
  },
  {
   "cell_type": "markdown",
   "id": "cc9ecaa0-3384-435b-a406-414212933d45",
   "metadata": {},
   "source": [
    "La conclusion es entonces es que la regla NO es cierta, dado que el numero de movimientos no coincide con los encontrados y no existe movimientos del año 2013."
   ]
  },
  {
   "cell_type": "markdown",
   "id": "f075af81-b07e-4a46-901d-0f581175bb83",
   "metadata": {},
   "source": [
    "#### 3.2.3- Los movimientos estan relacionados con 228.265 clientes"
   ]
  },
  {
   "cell_type": "markdown",
   "id": "1ba945d0-4fde-44e3-a8c8-3a98a0c8833a",
   "metadata": {},
   "source": [
    "Esta regla indica que los movimientos estan relacionados con 228.265 clientes lo cual no es cierto. Dado que consultar el total de **_ClienteID_** no duplicados qeu existe en la tabla solo se encontro 664 clientes."
   ]
  },
  {
   "cell_type": "code",
   "execution_count": 77,
   "id": "54a5a422-6faf-4786-96cb-1a32cd67cc5b",
   "metadata": {},
   "outputs": [
    {
     "data": {
      "text/plain": [
       "664"
      ]
     },
     "execution_count": 77,
     "metadata": {},
     "output_type": "execute_result"
    }
   ],
   "source": [
    "movimientos.select(col(\"ClienteID\")).distinct().count()"
   ]
  },
  {
   "cell_type": "markdown",
   "id": "08ebd2ec-9d35-4775-9c1c-d1663a85b527",
   "metadata": {},
   "source": [
    "Adicional a ello, analizando los datos dentro de la columna **_ClienteID_**, no se encuentra un formato numero tipico de un identificador, por lo contrario se encuentra un formato Double, tipico de un dato monetario. Dentro de la lista tambien se encontro un identificador con valor **cero**."
   ]
  },
  {
   "cell_type": "code",
   "execution_count": 66,
   "id": "f05e29b9-bd4a-47e4-b9e1-b50480ce87fc",
   "metadata": {},
   "outputs": [
    {
     "name": "stdout",
     "output_type": "stream",
     "text": [
      "+---------+\n",
      "|ClienteID|\n",
      "+---------+\n",
      "|    596.0|\n",
      "|    496.0|\n",
      "|    934.0|\n",
      "|    558.0|\n",
      "|   1051.0|\n",
      "|    170.0|\n",
      "|    184.0|\n",
      "|    810.0|\n",
      "|    147.0|\n",
      "|    576.0|\n",
      "+---------+\n",
      "only showing top 10 rows\n",
      "\n"
     ]
    }
   ],
   "source": [
    "movimientos.select(col(\"ClienteID\")).distinct().show(10)"
   ]
  },
  {
   "cell_type": "code",
   "execution_count": 78,
   "id": "b3cf75b3-d261-43a3-a41b-133bb1b8fa9e",
   "metadata": {},
   "outputs": [
    {
     "data": {
      "text/plain": [
       "1"
      ]
     },
     "execution_count": 78,
     "metadata": {},
     "output_type": "execute_result"
    }
   ],
   "source": [
    "movimientos.select(col(\"ClienteID\")).distinct().filter(\"ClienteID == 0\").count()"
   ]
  },
  {
   "cell_type": "code",
   "execution_count": 67,
   "id": "be81a6e3-330c-4641-af8e-eefec51be4a1",
   "metadata": {},
   "outputs": [
    {
     "name": "stdout",
     "output_type": "stream",
     "text": [
      "+---------+\n",
      "|ClienteID|\n",
      "+---------+\n",
      "|    476.0|\n",
      "|     33.0|\n",
      "|    180.0|\n",
      "|     33.0|\n",
      "|     55.0|\n",
      "|    146.0|\n",
      "|    585.0|\n",
      "|     30.0|\n",
      "|    596.0|\n",
      "|   1037.0|\n",
      "+---------+\n",
      "only showing top 10 rows\n",
      "\n"
     ]
    }
   ],
   "source": [
    "movimientos.select(col(\"ClienteID\")).show(10)"
   ]
  },
  {
   "cell_type": "markdown",
   "id": "1b920068-911d-480b-92b0-bacf17786f00",
   "metadata": {},
   "source": [
    "La conclusion es entonce que la regla indicada no es cierta. Dado que el numero de clientes no duplicados es **_664_** y no **_228265_** como se indico. Adicional a ello es necesario revalidar el contenido de la columna **_ClienteID_** ya que no parece tener el tipo de dato acorde a un identificador, tambien se encontro que un identificador tiene el valor **cero**."
   ]
  },
  {
   "cell_type": "markdown",
   "id": "08bd3555-1b70-4539-9ac2-f5c301fcd9a9",
   "metadata": {},
   "source": [
    "#### 3.2.4- Actualmente tenemos 13 proveedores"
   ]
  },
  {
   "cell_type": "markdown",
   "id": "91c6da8a-967c-4562-be68-ae9af0c3e107",
   "metadata": {},
   "source": [
    "Esta indica que existen **13** proveedores, sin embargo al realizar las consultas dentro de los datos, solo se encontro **3** proveedores, y adicionalmente se encontro valores vacios como identificador de un proveedor."
   ]
  },
  {
   "cell_type": "code",
   "execution_count": 79,
   "id": "8905a91a-f409-43ad-9faf-ba9288e527ae",
   "metadata": {},
   "outputs": [
    {
     "data": {
      "text/plain": [
       "4"
      ]
     },
     "execution_count": 79,
     "metadata": {},
     "output_type": "execute_result"
    }
   ],
   "source": [
    "movimientos.select(col(\"ProveedorID\")).distinct().count()"
   ]
  },
  {
   "cell_type": "code",
   "execution_count": 70,
   "id": "38485442-ae59-4e25-ae69-37b768758466",
   "metadata": {},
   "outputs": [
    {
     "data": {
      "text/plain": [
       "3"
      ]
     },
     "execution_count": 70,
     "metadata": {},
     "output_type": "execute_result"
    }
   ],
   "source": [
    "movimientos.select(col(\"ProveedorID\")).distinct().filter(\"ProveedorID != ''\").count()"
   ]
  },
  {
   "cell_type": "code",
   "execution_count": 71,
   "id": "a26ce65a-a533-4298-9061-132710ab4307",
   "metadata": {},
   "outputs": [
    {
     "name": "stdout",
     "output_type": "stream",
     "text": [
      "+-----------+\n",
      "|ProveedorID|\n",
      "+-----------+\n",
      "|        1.0|\n",
      "|        4.0|\n",
      "|        7.0|\n",
      "+-----------+\n",
      "\n"
     ]
    }
   ],
   "source": [
    "movimientos.select(col(\"ProveedorID\")).distinct().filter(\"ProveedorID != ''\").show()"
   ]
  },
  {
   "cell_type": "markdown",
   "id": "b07347c4-a7ed-4b9c-8187-1648e3a57e6f",
   "metadata": {},
   "source": [
    "La conclusion entonces es que la regla no es cierta, dado que el numero de proveedores no coincide con lo indicado, adiconal a ello existen proveedores con valores de cadena vacia."
   ]
  },
  {
   "cell_type": "markdown",
   "id": "44e9ffe3-7348-40f3-89f2-e6bd4fbfab9e",
   "metadata": {},
   "source": [
    "### 3.3- Análisis descriptivo\n",
    "Una vez cubierto lo básico de reglas de negocio, pasamos a perfilamiento estadístico. Para ver estadisticos generales como conteo, mínimo, máximo, desviación estandar y percentiles utilice summary()"
   ]
  },
  {
   "cell_type": "code",
   "execution_count": 89,
   "id": "f82c3151-8aa7-4a8d-b622-8978b8ae3c3f",
   "metadata": {},
   "outputs": [
    {
     "name": "stderr",
     "output_type": "stream",
     "text": [
      "[Stage 173:>                                                        (0 + 1) / 1]\r"
     ]
    },
    {
     "name": "stdout",
     "output_type": "stream",
     "text": [
      "+-------+---------------------+------------------+-------------------+------------------+-----------------+-----------------+------------------+--------------------+-----------------+\n",
      "|summary|TransaccionProductoID|        ProductoID|  TipoTransaccionID|         ClienteID|        InvoiceID|      ProveedorID|   OrdenDeCompraID|    FechaTransaccion|         Cantidad|\n",
      "+-------+---------------------+------------------+-------------------+------------------+-----------------+-----------------+------------------+--------------------+-----------------+\n",
      "|  count|               204292|            204292|             204292|            204292|           204292|           204292|            204292|              204292|           204292|\n",
      "|   mean|   212458.04047637695|110.70090850351458| 10.035253460732676| 517.3252941867523|42957.26929590978|4.951898734177215|1345.9973277074544|                null|719.4997650421946|\n",
      "| stddev|    71352.37579752573| 63.49014746219581|0.18563716955046372|353.50136995999276| 16826.9772221931|1.406311225432683|420.37740964792835|                null| 4729.36659747762|\n",
      "|    min|                89146|                 1|                 10|               0.0|              0.0|                 |                  |2013-12-31 07:00:...|           -360.0|\n",
      "|    25%|               150639|                56|                 10|             145.0|          30120.0|              4.0|             986.0|                null|            -60.0|\n",
      "|    50%|               212323|               110|                 10|             511.0|          43546.0|              4.0|            1347.0|                null|             -9.0|\n",
      "|    75%|               274216|               166|                 10|             877.0|          56983.0|              7.0|            1710.0|                null|             -5.0|\n",
      "|    max|               336251|               227|                 12|            1061.0|          70510.0|              7.0|             999.0|         Sep 30,2015|          67368.0|\n",
      "+-------+---------------------+------------------+-------------------+------------------+-----------------+-----------------+------------------+--------------------+-----------------+\n",
      "\n"
     ]
    },
    {
     "name": "stderr",
     "output_type": "stream",
     "text": [
      "                                                                                \r"
     ]
    }
   ],
   "source": [
    "movimientos.summary().show()"
   ]
  },
  {
   "cell_type": "markdown",
   "id": "e5fab399-9b38-4689-84ba-a92908e5e106",
   "metadata": {},
   "source": [
    "En las estadisticas observamos el calculo de la media para las columnas ID, esto se hace automatico pues son columnas cuyo tipo de dato es numerico, sin embargo estas no son variables numericas por lo cual calcular y/o analizar la media no tiene sentido. Podemos observar que el ID de los movimientos van desde 89146 hasta el 336251, el ID de los productos van desde el 1 hasta el 227, los tipos de movimientos van desde el 10 al 12."
   ]
  },
  {
   "cell_type": "markdown",
   "id": "4cf2196b-3cb7-4765-8968-6a2a430479f0",
   "metadata": {},
   "source": [
    "Adicionalmente en las estadisticas podemos observar que la fecha minima de movimiento es 31 de Diciembre del 2013 y la maxima es 30 de Septiembre del 2015, sin embargo poseen distintos formatos. "
   ]
  },
  {
   "cell_type": "markdown",
   "id": "e15203fc-6f9e-49fe-9f54-b3e5f44069bd",
   "metadata": {},
   "source": [
    "Por ultimo podemos observar el promedio de cantidad de productos retirados/ingresados es 719.499, siendo el minimo de productos retirados -360.0 y el maximo de productos ingresados 67368.0."
   ]
  },
  {
   "cell_type": "markdown",
   "id": "de4c8457-a6b1-47b4-956f-da900e0df58f",
   "metadata": {},
   "source": [
    "En cuanto a la desviacion estandar las cantidades de productos retirados/ingresados varia en 4729.366. En el caso de las fechas de transaccion no se logra determinar el valor correcto dado que el tipo de dato es una cadena de texto y los formatos no son homogeneos, adicional a ellos podemos ver que existe un 75% de datos nulos."
   ]
  },
  {
   "cell_type": "code",
   "execution_count": 83,
   "id": "63791a75-7674-453c-9af2-532b8f09c14f",
   "metadata": {},
   "outputs": [
    {
     "data": {
      "text/plain": [
       "{'whiskers': [<matplotlib.lines.Line2D at 0x7f5463c807f0>,\n",
       "  <matplotlib.lines.Line2D at 0x7f5463c80ac0>],\n",
       " 'caps': [<matplotlib.lines.Line2D at 0x7f5463c80d90>,\n",
       "  <matplotlib.lines.Line2D at 0x7f5463c81060>],\n",
       " 'boxes': [<matplotlib.lines.Line2D at 0x7f5463c80520>],\n",
       " 'medians': [<matplotlib.lines.Line2D at 0x7f5463c81330>],\n",
       " 'fliers': [<matplotlib.lines.Line2D at 0x7f5463c81600>],\n",
       " 'means': []}"
      ]
     },
     "execution_count": 83,
     "metadata": {},
     "output_type": "execute_result"
    },
    {
     "data": {
      "image/png": "[encoded data removed]",
      "text/plain": [
       "<Figure size 640x480 with 1 Axes>"
      ]
     },
     "metadata": {},
     "output_type": "display_data"
    }
   ],
   "source": [
    "%matplotlib inline\n",
    "import matplotlib.pyplot as plt\n",
    "\n",
    "fig1, ax1 = plt.subplots()\n",
    "ax1.set_title('Cantidad de productos retirados/ingresados')\n",
    "ax1.boxplot(np.array(movimientos.select('Cantidad').collect()))"
   ]
  },
  {
   "cell_type": "markdown",
   "id": "d52b56fc-d447-40d7-aac5-b2f9e43ecb6f",
   "metadata": {},
   "source": [
    "Tenemos el siguiente diagrama de caja donde se observa claramente que tenemos un valor extremo en la variable cantidad y donde podemos ver los valores extremos o bigotes que determinan el punto de separación entre valores atípicos y normales, los valores atipicos, los cuartiles entre otros. Los productos retirados se encuentran **debajo del eje Y=0**  y los productos ingresados se que son en gran mayoria de datos **sobre del eje Y=0**"
   ]
  },
  {
   "cell_type": "markdown",
   "id": "e373356c-e7a9-4ebf-b2c6-2b4b1ba577a6",
   "metadata": {},
   "source": [
    "El análisis anterior es muy útil para variables de tipo numérico, sin embargo es incompleto para las variables de tipo caracter o las variables categoricas, por ende es necesario implementar nuestro propio código par obtener estadisticos como la moda y la mediana. A continuación obtenemos la moda para la variable FechaTransaccion:"
   ]
  },
  {
   "cell_type": "code",
   "execution_count": 87,
   "id": "247f81f6-5d57-44d8-b898-52b643f1212b",
   "metadata": {},
   "outputs": [
    {
     "name": "stdout",
     "output_type": "stream",
     "text": [
      "+--------------------+-----+\n",
      "|    FechaTransaccion|count|\n",
      "+--------------------+-----+\n",
      "|2015-11-03 12:00:...|  331|\n",
      "|2015-01-21 12:00:...|  326|\n",
      "|2015-04-14 12:00:...|  323|\n",
      "|2016-05-04 12:00:...|  323|\n",
      "|2015-10-06 12:00:...|  317|\n",
      "+--------------------+-----+\n",
      "only showing top 5 rows\n",
      "\n"
     ]
    }
   ],
   "source": [
    "movimientos.groupby(\"FechaTransaccion\").count().orderBy(\"count\", ascending=False).show(5)"
   ]
  },
  {
   "cell_type": "markdown",
   "id": "df52290b-5a59-4c53-b114-a7a70920dd85",
   "metadata": {},
   "source": [
    "## 4- Análisis de calidad de datos"
   ]
  },
  {
   "cell_type": "markdown",
   "id": "22769e40-6c9d-439c-b9be-f201491aedf6",
   "metadata": {},
   "source": [
    "A continuación se definen dos funciones, la primera cuenta los valores vacios por columna de dataframe, la segunda retorna un diccionario de columnas con cardinalidad superior al 50%"
   ]
  },
  {
   "cell_type": "markdown",
   "id": "72dcfb70-eb40-4f9a-a314-1950cb8a80c2",
   "metadata": {},
   "source": [
    "### 4.1- Completitud"
   ]
  },
  {
   "cell_type": "code",
   "execution_count": 101,
   "id": "ad98b94f-9e4d-4296-ad82-b22f0e3e9fe0",
   "metadata": {},
   "outputs": [],
   "source": [
    "def contar_vacios(df):\n",
    "    resultados = []\n",
    "    for c in df.columns:\n",
    "        vacios = df.filter(df[c].isNull()).count()\n",
    "        if vacios!=0:\n",
    "            print('número de vacíos para columna '+c+': '+str( vacios ))\n",
    "            resultados.append(vacios)\n",
    "        print('analizando columna: '+ c + ' - Cantidad de datos nulos: ' + str(vacios))\n",
    "    return resultados\n",
    "\n",
    "def cardinalidad(df):\n",
    "    resultado = {}\n",
    "    for c in df.columns:\n",
    "        cardinalidad = df.select(col(c)).distinct().count()\n",
    "        if cardinalidad>=df.count()*0.5:\n",
    "            resultado[c] = cardinalidad\n",
    "    return resultado"
   ]
  },
  {
   "cell_type": "code",
   "execution_count": 102,
   "id": "203f0e05-99e4-4e09-9fc3-d1482635eac8",
   "metadata": {},
   "outputs": [
    {
     "name": "stdout",
     "output_type": "stream",
     "text": [
      "analizando columna: TransaccionProductoID - Cantidad de datos nulos: 0\n",
      "analizando columna: ProductoID - Cantidad de datos nulos: 0\n",
      "analizando columna: TipoTransaccionID - Cantidad de datos nulos: 0\n",
      "analizando columna: ClienteID - Cantidad de datos nulos: 0\n",
      "analizando columna: InvoiceID - Cantidad de datos nulos: 0\n",
      "analizando columna: ProveedorID - Cantidad de datos nulos: 0\n",
      "analizando columna: OrdenDeCompraID - Cantidad de datos nulos: 0\n",
      "analizando columna: FechaTransaccion - Cantidad de datos nulos: 0\n",
      "analizando columna: Cantidad - Cantidad de datos nulos: 0\n"
     ]
    }
   ],
   "source": [
    "columnas_vacias_movimientos = contar_vacios(movimientos)"
   ]
  },
  {
   "cell_type": "code",
   "execution_count": 104,
   "id": "f2e8f998-3a83-4178-9a90-23928fdfe428",
   "metadata": {},
   "outputs": [
    {
     "data": {
      "text/plain": [
       "{'TransaccionProductoID': 173659}"
      ]
     },
     "execution_count": 104,
     "metadata": {},
     "output_type": "execute_result"
    }
   ],
   "source": [
    "columnas_alta_cardinalidad_movimientos = cardinalidad(movimientos)\n",
    "columnas_alta_cardinalidad_movimientos"
   ]
  },
  {
   "cell_type": "markdown",
   "id": "fc1c4245-f103-42bc-92eb-afdf2825fbfa",
   "metadata": {},
   "source": [
    "Podemos notar que solo la colummna TransaccionProductoID posee una cardinalidad superior al 50%."
   ]
  },
  {
   "cell_type": "markdown",
   "id": "03d9132a-9a0a-478d-ada7-97e8b7d90f58",
   "metadata": {},
   "source": [
    "### 4.2- Unicidad y Validez"
   ]
  },
  {
   "cell_type": "markdown",
   "id": "929eb485-0d74-4e46-a483-b0c3c4ee817c",
   "metadata": {},
   "source": [
    "La unicidad se revisó en la tercera regla de negocio y la validez se reviso en el perfilamiento general, en la regla de negocio 3 y en el análisis de la descripción al final de la sección de revisión de reglas de negocio"
   ]
  },
  {
   "cell_type": "markdown",
   "id": "795b9e44-997e-451d-b3f6-572fdfb1eb90",
   "metadata": {},
   "source": [
    "### 4.3- Consistencia"
   ]
  },
  {
   "cell_type": "markdown",
   "id": "f9c2939e-ef83-453e-a630-0b714e1b66af",
   "metadata": {},
   "source": [
    "A nivel de consistencia algunos ejemplos de revisión son fecahs de transaccion con diferentes formatos, los identificadores de cliente y de factura tienen valores **zero**. En nuestro caso vamos a verificar que todas los movimientos tengan fecha clientes asociados."
   ]
  },
  {
   "cell_type": "code",
   "execution_count": 105,
   "id": "87650974-7e91-48f5-bbbc-e18e75fbbb19",
   "metadata": {},
   "outputs": [
    {
     "name": "stdout",
     "output_type": "stream",
     "text": [
      "+---------+-----+\n",
      "|InvoiceID|count|\n",
      "+---------+-----+\n",
      "|      0.0| 7156|\n",
      "|  20518.0|    9|\n",
      "|  23606.0|    9|\n",
      "|  51395.0|    9|\n",
      "|  37097.0|    9|\n",
      "+---------+-----+\n",
      "only showing top 5 rows\n",
      "\n"
     ]
    }
   ],
   "source": [
    "movimientos.groupby(\"InvoiceID\").count().orderBy(\"count\", ascending=False).show(5)"
   ]
  },
  {
   "cell_type": "markdown",
   "id": "b67126fb-860f-45d3-8088-6e6d0fa5892c",
   "metadata": {},
   "source": [
    "Como se puede observar existen 7156 movimientos con identificador de cliente **zero**."
   ]
  },
  {
   "cell_type": "markdown",
   "id": "33d2406f-0509-4c3d-a0b2-e39b899c5a2e",
   "metadata": {},
   "source": [
    "## 5- Conclusiones/Resultados"
   ]
  },
  {
   "cell_type": "markdown",
   "id": "8ba16c48-f25d-4891-96f5-91136c423ed2",
   "metadata": {},
   "source": [
    "**Conclusiones generales:**\n",
    "\n",
    "1. En la tabla de movimientos tenemos información **relacionada con el cliente, el proveedor y con la factura**.\n",
    "2. Una fila de movimientos representa **movimiento de retiro** de un producto realizado por un cliente o  **movimeinto de ingreso** de un producto realizado por un proveedor.\n",
    "3. Existe una diferencia entre los movimientos y el numero de cliente.\n",
    "\n",
    "**Conclusiones de reglas de negocio:**\n",
    "\n",
    "1. La regla 1 no se puede determinar si es cierta o no, dado que no hay existe una tabla Invoice que nos brinde el monto asociado a cada movimiento.\n",
    "2. La regla 1 no es cierta, dado que el numero de movimientos no coincide con los encontrados y no existe movimientos del año 2013.\n",
    "3. Los datos comienzan en 31 de Diciembre del 2013, sin embargo existen datos nulos, ¿es un error o faltan datos?\n",
    "4. La regla 4 no es cierta, dado que el numero de proveedores no coincide con lo indicado, adiconal a ello existen proveedores con valores de cadena vacia.\n",
    "\n",
    "**Conclusiones de calidad:**\n",
    "\n",
    "1. Las columnas CLienteID e InvoiceID tienen un conteo igual a 0, es decir es neesario re-validar esos datos ya que representan a identificador del cliente y la factura respectivamente.\n",
    "2. El formato de la columna FechaTransaccion no es homogenea, es decir tienen distintos tipo de formatos. Por ejemplo (**Sep 30,2015** & **2015-11-03 12:00:05**).\n",
    "3. Observamos que la columna CLienteID tiene 664 valores distintos, sin embargo se espearaba 228265 valores distintos.\n",
    "4. Respecto a cardinalidad, solo la colummna TransaccionProductoID posee una cardinalidad superior al 50%.\n",
    "5. Como se puede observar solo tenemos 3 proveedores vinculados a un moviimeintos, mientras que se esperaba tener 13 proveedores.\n",
    "\n",
    "**Conclusiones de consultoria**\n",
    "\n",
    "Teniendo en cuenta el requerimiento de WWI, consideramos que es posible llevar a cabo una solucióon pues contamos con la información necesaria especificada en el análisis requerido, sin embargo es necesario realizar correcciones a los datos y obtener aclaraciones de parte del negocio para entender completamente la necesidad de negocio"
   ]
  },
  {
   "cell_type": "code",
   "execution_count": null,
   "id": "c95ac0db-5123-4e6f-bd39-1b789ccf9cd1",
   "metadata": {},
   "outputs": [],
   "source": []
  }
 ],
 "metadata": {
  "kernelspec": {
   "display_name": "Python 3 (ipykernel)",
   "language": "python",
   "name": "python3"
  },
  "language_info": {
   "codemirror_mode": {
    "name": "ipython",
    "version": 3
   },
   "file_extension": ".py",
   "mimetype": "text/x-python",
   "name": "python",
   "nbconvert_exporter": "python",
   "pygments_lexer": "ipython3",
   "version": "3.10.6"
  }
 },
 "nbformat": 4,
 "nbformat_minor": 5
}
